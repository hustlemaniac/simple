{
 "cells": [
  {
   "cell_type": "code",
   "execution_count": 18,
   "metadata": {},
   "outputs": [],
   "source": [
    "from pypdf import *\n",
    "import os"
   ]
  },
  {
   "attachments": {},
   "cell_type": "markdown",
   "metadata": {},
   "source": [
    "Reading PDF Files With PdfReader"
   ]
  },
  {
   "cell_type": "code",
   "execution_count": 9,
   "metadata": {},
   "outputs": [],
   "source": [
    "pdff = \"RabbitMQ.pdf\"\n",
    "pdf_reader = PdfReader(pdff)\n"
   ]
  },
  {
   "attachments": {},
   "cell_type": "markdown",
   "metadata": {},
   "source": [
    "Get number of pages"
   ]
  },
  {
   "cell_type": "code",
   "execution_count": 10,
   "metadata": {},
   "outputs": [
    {
     "data": {
      "text/plain": [
       "162"
      ]
     },
     "execution_count": 10,
     "metadata": {},
     "output_type": "execute_result"
    }
   ],
   "source": [
    "len(pdf_reader.pages)"
   ]
  },
  {
   "attachments": {},
   "cell_type": "markdown",
   "metadata": {},
   "source": [
    "Get document information"
   ]
  },
  {
   "cell_type": "code",
   "execution_count": 11,
   "metadata": {},
   "outputs": [
    {
     "data": {
      "text/plain": [
       "{'/Producer': 'macOS Version 12.4 (Build 21F79) Quartz PDFContext',\n",
       " '/Creator': 'Adobe InDesign 17.2 (Macintosh)',\n",
       " '/CreationDate': \"D:20220608140123Z00'00'\",\n",
       " '/ModDate': \"D:20220608140123Z00'00'\"}"
      ]
     },
     "execution_count": 11,
     "metadata": {},
     "output_type": "execute_result"
    }
   ],
   "source": [
    "pdf_reader.metadata"
   ]
  },
  {
   "attachments": {},
   "cell_type": "markdown",
   "metadata": {},
   "source": [
    "Extracting Text From a Page"
   ]
  },
  {
   "cell_type": "code",
   "execution_count": 13,
   "metadata": {},
   "outputs": [
    {
     "name": "stdout",
     "output_type": "stream",
     "text": [
      "PART ONE\n",
      "Introduction to RabbitMQ  ..................................................... 8\n",
      "Microservices and RabbitMQ  ..................................... 10\n",
      "What is RabbitMQ?  ....................................................... 14\n",
      "Exchanges, Routing Keys and Bindings  ................... 26\n",
      "RabbitMQ and client libraries  ..................................... 36\n",
      "Rabbitmq with Ruby and Bunny  ............................... 38\n",
      "RabbitMQ and Node.js with Amqplib  ....................... 44\n",
      "RabbitMQ and Python with Pika  ................................ 54\n",
      "The Management Interface  ....................................... 60\n",
      "Arguments and properties  ........................................ 78\n",
      "Policies  ........................................................................... 82\n",
      "PART TWO\n",
      "Advanced Message Queuing  ............................................. 88\n",
      "Quorum Queues  ........................................................... 90\n",
      "Prefetch  ......................................................................... 92\n",
      "RabbitMQ streams  ...................................................... 96\n",
      "Queue Federation  ....................................................... 100\n",
      "RabbitMQ Best Practice  ............................................ 106\n",
      "Best Practices for High Performance  ...................... 120\n",
      "Best Practices for High Availability  .......................... 124\n",
      "RabbitMQ Protocols  ................................................... 128\n"
     ]
    }
   ],
   "source": [
    "first_page = pdf_reader.pages[4]\n",
    "# first_page is of class type\n",
    "print(first_page.extract_text())"
   ]
  },
  {
   "attachments": {},
   "cell_type": "markdown",
   "metadata": {},
   "source": [
    "Extracting one page each from two PDFs and writing them into new PDF"
   ]
  },
  {
   "cell_type": "code",
   "execution_count": 20,
   "metadata": {},
   "outputs": [
    {
     "data": {
      "text/plain": [
       "(True, <_io.FileIO [closed]>)"
      ]
     },
     "execution_count": 20,
     "metadata": {},
     "output_type": "execute_result"
    }
   ],
   "source": [
    "pdf_reader1 = PdfReader(r\"C:\\Users\\bhavy\\Downloads\\GUIDES\\RabbitMQ.pdf\")\n",
    "pdf_reader2 = PdfReader(r\"C:\\Users\\bhavy\\Downloads\\GUIDES\\DSA WITH C++.pdf\")\n",
    "page1 = pdf_reader1.pages[4]\n",
    "page2 = pdf_reader2.pages[12]\n",
    "output_pdf = PdfWriter()\n",
    "output_pdf.add_page(page1)\n",
    "output_pdf.add_page(page2)\n",
    "output_pdf.write(\"combined.pdf\")"
   ]
  }
 ],
 "metadata": {
  "kernelspec": {
   "display_name": "base",
   "language": "python",
   "name": "python3"
  },
  "language_info": {
   "codemirror_mode": {
    "name": "ipython",
    "version": 3
   },
   "file_extension": ".py",
   "mimetype": "text/x-python",
   "name": "python",
   "nbconvert_exporter": "python",
   "pygments_lexer": "ipython3",
   "version": "3.8.5"
  },
  "orig_nbformat": 4
 },
 "nbformat": 4,
 "nbformat_minor": 2
}
